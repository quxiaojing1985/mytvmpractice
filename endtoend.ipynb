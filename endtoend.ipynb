{
  "nbformat": 4,
  "nbformat_minor": 0,
  "metadata": {
    "colab": {
      "name": "Untitled4.ipynb",
      "provenance": [],
      "toc_visible": true,
      "authorship_tag": "ABX9TyNpiDefdR7kQ2A/YhZneRy/",
      "include_colab_link": true
    },
    "kernelspec": {
      "name": "python3",
      "display_name": "Python 3"
    },
    "language_info": {
      "name": "python"
    }
  },
  "cells": [
    {
      "cell_type": "markdown",
      "metadata": {
        "id": "view-in-github",
        "colab_type": "text"
      },
      "source": [
        "<a href=\"https://colab.research.google.com/github/quxiaojing1985/mytvmpractice/blob/main/endtoend.ipynb\" target=\"_parent\"><img src=\"https://colab.research.google.com/assets/colab-badge.svg\" alt=\"Open In Colab\"/></a>"
      ]
    },
    {
      "cell_type": "code",
      "execution_count": 61,
      "metadata": {
        "colab": {
          "base_uri": "https://localhost:8080/"
        },
        "id": "s64Lt9xrDKAJ",
        "outputId": "f6a10335-f31a-4738-c378-b60993552fa4"
      },
      "outputs": [
        {
          "output_type": "stream",
          "name": "stdout",
          "text": [
            "Looking in indexes: https://pypi.org/simple, https://us-python.pkg.dev/colab-wheels/public/simple/\n",
            "Looking in links: https://mlc.ai/wheels\n",
            "Requirement already satisfied: mlc-ai-nightly in /usr/local/lib/python3.7/dist-packages (0.9.dev1956+ge3f218d71)\n",
            "Requirement already satisfied: numpy in /usr/local/lib/python3.7/dist-packages (from mlc-ai-nightly) (1.21.6)\n",
            "Requirement already satisfied: psutil in /usr/local/lib/python3.7/dist-packages (from mlc-ai-nightly) (5.4.8)\n",
            "Requirement already satisfied: attrs in /usr/local/lib/python3.7/dist-packages (from mlc-ai-nightly) (22.1.0)\n",
            "Requirement already satisfied: Pygments in /usr/local/lib/python3.7/dist-packages (from mlc-ai-nightly) (2.6.1)\n",
            "Requirement already satisfied: cloudpickle in /usr/local/lib/python3.7/dist-packages (from mlc-ai-nightly) (1.3.0)\n",
            "Requirement already satisfied: synr==0.6.0 in /usr/local/lib/python3.7/dist-packages (from mlc-ai-nightly) (0.6.0)\n",
            "Requirement already satisfied: scipy in /usr/local/lib/python3.7/dist-packages (from mlc-ai-nightly) (1.7.3)\n",
            "Requirement already satisfied: tornado in /usr/local/lib/python3.7/dist-packages (from mlc-ai-nightly) (5.1.1)\n",
            "Requirement already satisfied: decorator in /usr/local/lib/python3.7/dist-packages (from mlc-ai-nightly) (4.4.2)\n"
          ]
        }
      ],
      "source": [
        "!python3 -m  pip install mlc-ai-nightly -f https://mlc.ai/wheels"
      ]
    },
    {
      "cell_type": "code",
      "source": [
        "import tvm\n",
        "from tvm.ir.module import IRModule\n",
        "from tvm.script import tir as T, relax as R\n",
        "import numpy as np\n",
        "from tvm import relax\n",
        "# This is needed for deferring annotation parsing in TVMScript\n",
        "from __future__ import annotations "
      ],
      "metadata": {
        "id": "MnPYAh1ADevC"
      },
      "execution_count": 62,
      "outputs": []
    },
    {
      "cell_type": "code",
      "source": [
        "import IPython\n",
        "\n",
        "def code2html(code):\n",
        "    \"\"\"Helper function to use pygments to turn the code string into highlighted html.\"\"\"\n",
        "    import pygments\n",
        "    from pygments.lexers import Python3Lexer\n",
        "    from pygments.formatters import HtmlFormatter\n",
        "    formatter = HtmlFormatter()\n",
        "    html = pygments.highlight(code, Python3Lexer(), formatter)\n",
        "    return \"<style>%s</style>%s\\n\" % (formatter.get_style_defs(\".highlight\"), html)"
      ],
      "metadata": {
        "id": "MKYGZJ2_Eukx"
      },
      "execution_count": 63,
      "outputs": []
    },
    {
      "cell_type": "code",
      "source": [
        "from torchvision.datasets.mnist import FashionMNIST\n",
        "import torchvision\n",
        "import torch\n",
        "test_data = torchvision.datasets.FashionMNIST(\n",
        "    root=\"data\",\n",
        "    train=False,\n",
        "    download = True,\n",
        "    transform=torchvision.transforms.ToTensor()\n",
        ")\n",
        "test_loader = torch.utils.data.DataLoader(test_data, batch_size=1, shuffle=True)\n",
        "class_names=['T-shirt/top', 'Trouser', 'Pullover', 'Dress', 'Coat',\n",
        "               'Sandal', 'Shirt', 'Sneaker', 'Bag', 'Ankle boot']\n",
        "img,label = next(iter(test_loader))\n",
        "img =  img.reshape(1, 28, 28).numpy()\n"
      ],
      "metadata": {
        "id": "kk-u4IGDExCS"
      },
      "execution_count": 64,
      "outputs": []
    },
    {
      "cell_type": "code",
      "source": [
        "import matplotlib.pyplot as plt\n",
        "\n",
        "plt.figure()\n",
        "plt.imshow(img[0])\n",
        "plt.colorbar()\n",
        "plt.grid(False)\n",
        "plt.show()\n",
        "\n",
        "print(\"Class:\", class_names[label[0]])"
      ],
      "metadata": {
        "colab": {
          "base_uri": "https://localhost:8080/",
          "height": 286
        },
        "id": "pNYtivBjGGk7",
        "outputId": "148e8da7-4309-40cb-fc01-9e16d427e8fd"
      },
      "execution_count": 5,
      "outputs": [
        {
          "output_type": "display_data",
          "data": {
            "text/plain": [
              "<Figure size 432x288 with 2 Axes>"
            ],
            "image/png": "[encoded data removed]"
          },
          "metadata": {
            "needs_background": "light"
          }
        },
        {
          "output_type": "stream",
          "name": "stdout",
          "text": [
            "Class: Bag\n"
          ]
        }
      ]
    },
    {
      "cell_type": "code",
      "source": [
        "!wget https://github.com/mlc-ai/web-data/raw/main/models/fasionmnist_mlp_params.pkl"
      ],
      "metadata": {
        "colab": {
          "base_uri": "https://localhost:8080/"
        },
        "id": "WFMNvUEKGTT_",
        "outputId": "bfff9c40-a1d6-4918-a681-7e67566a47ac"
      },
      "execution_count": 65,
      "outputs": [
        {
          "output_type": "stream",
          "name": "stdout",
          "text": [
            "--2022-08-11 03:52:14--  https://github.com/mlc-ai/web-data/raw/main/models/fasionmnist_mlp_params.pkl\n",
            "Resolving github.com (github.com)... 140.82.114.3\n",
            "Connecting to github.com (github.com)|140.82.114.3|:443... connected.\n",
            "HTTP request sent, awaiting response... 302 Found\n",
            "Location: https://raw.githubusercontent.com/mlc-ai/web-data/main/models/fasionmnist_mlp_params.pkl [following]\n",
            "--2022-08-11 03:52:15--  https://raw.githubusercontent.com/mlc-ai/web-data/main/models/fasionmnist_mlp_params.pkl\n",
            "Resolving raw.githubusercontent.com (raw.githubusercontent.com)... 185.199.108.133, 185.199.109.133, 185.199.110.133, ...\n",
            "Connecting to raw.githubusercontent.com (raw.githubusercontent.com)|185.199.108.133|:443... connected.\n",
            "HTTP request sent, awaiting response... 200 OK\n",
            "Length: 407396 (398K) [application/octet-stream]\n",
            "Saving to: ‘fasionmnist_mlp_params.pkl.1’\n",
            "\n",
            "fasionmnist_mlp_par 100%[===================>] 397.85K  --.-KB/s    in 0.03s   \n",
            "\n",
            "2022-08-11 03:52:15 (12.6 MB/s) - ‘fasionmnist_mlp_params.pkl.1’ saved [407396/407396]\n",
            "\n"
          ]
        }
      ]
    },
    {
      "cell_type": "code",
      "source": [
        "def numpy_mlp(data, w0, b0, w1, b1):\n",
        "  lv0 = data @ w0.T + b0\n",
        "  lv1 = np.maximum(lv0, 0)\n",
        "  lv2 = lv1 @ w1.T + b1\n",
        "  return lv2"
      ],
      "metadata": {
        "id": "2JemXrAL4qo8"
      },
      "execution_count": 66,
      "outputs": []
    },
    {
      "cell_type": "code",
      "source": [
        "import pickle as pkl\n",
        "mlp_params = pkl.load(open(\"fasionmnist_mlp_params.pkl\", \"rb\"))\n",
        "res = numpy_mlp(img.reshape(1, 784),\n",
        "                mlp_params[\"w0\"],\n",
        "                mlp_params[\"b0\"],\n",
        "                mlp_params[\"w1\"],\n",
        "                mlp_params[\"b1\"])\n",
        "print(res)\n",
        "pred_kind =res.argmax(axis=1)\n",
        "print(pred_kind)\n",
        "print(\"Numpy-MLP predictiona:\", class_names[pred_kind[0]])"
      ],
      "metadata": {
        "colab": {
          "base_uri": "https://localhost:8080/"
        },
        "id": "aoPUHXQq5PyF",
        "outputId": "194b219a-d637-4abe-e943-bbd53ed3eade"
      },
      "execution_count": 67,
      "outputs": [
        {
          "output_type": "stream",
          "name": "stdout",
          "text": [
            "[[ 12.250845  -15.41249   -12.577083   -3.7667994 -19.052595  -31.424759\n",
            "    1.3092998 -40.09615   -21.486423  -36.833054 ]]\n",
            "[0]\n",
            "Numpy-MLP predictiona: T-shirt/top\n"
          ]
        }
      ]
    },
    {
      "cell_type": "code",
      "source": [
        "def lnumpy_linear0(X: np.ndarray, W: np.ndarray, B: np.ndarray, Z:np.ndarray):\n",
        "  Y = np.empty((1, 128), dtype = \"float32\")\n",
        "  for i in range(1):\n",
        "    for j in range(128):\n",
        "      for k in range(784):\n",
        "        if k == 0:\n",
        "          Y[i, j] = 0\n",
        "        Y[i, j] = Y[i, j] + X[i, k]*W[j,k]\n",
        "  for i in range(1):\n",
        "    for j in range(128):\n",
        "      Z[i, j] = Y[i, j] + B[j]\n",
        "def lnumpy_relu0(X: np.ndarray, Y: np.ndarray):\n",
        "  for i in range(1):\n",
        "    for j in range(128):\n",
        "      Y[i, j] = np.maximum(X[i, j], 0)\n",
        "def lnumpy_linear1(X: np.ndarray, W: np.ndarray, B: np.ndarray, Z:np.ndarray):\n",
        "  Y = np.empty((1, 10), dtype = \"float32\")\n",
        "  for i in range(1):\n",
        "    for j in range(10):\n",
        "      for k in range(128):\n",
        "        if k == 0:\n",
        "          Y[i, j] = 0\n",
        "        Y[i, j] = Y[i, j] + X[i, k]*W[j,k]\n",
        "  for i in range(1):\n",
        "    for j in range(10):\n",
        "      Z[i, j] = Y[i, j] + B[j]\n",
        "\n",
        "def lnumpy_mlp(data, w0, b0, w1, b1):\n",
        "  lv0 = np.empty((1, 128), dtype = \"float32\")\n",
        "  lnumpy_linear0(data, w0, b0, lv0)\n",
        "\n",
        "  lv1 = np.empty((1,128), dtype=\"float32\")\n",
        "  lnumpy_relu0(lv0, lv1)\n",
        "\n",
        "  out = np.empty((1, 10), dtype = \"float32\")\n",
        "  lnumpy_linear1(lv1, w1, b1, out)\n",
        "  return out\n",
        "result = lnumpy_mlp(\n",
        "      img.reshape(1, 784),\n",
        "      mlp_params[\"w0\"],\n",
        "      mlp_params[\"b0\"],\n",
        "      mlp_params[\"w1\"],\n",
        "      mlp_params[\"b1\"]\n",
        "  )\n",
        "pred_kind = result.argmax(axis=1)\n",
        "print(\"Low-level Numpy MLP Prediction:\", class_names[pred_kind[0]])"
      ],
      "metadata": {
        "colab": {
          "base_uri": "https://localhost:8080/"
        },
        "id": "BeEVHGYN_H_l",
        "outputId": "8de62caf-b06e-4722-e162-d021471e2cd1"
      },
      "execution_count": 68,
      "outputs": [
        {
          "output_type": "stream",
          "name": "stdout",
          "text": [
            "Low-level Numpy MLP Prediction: T-shirt/top\n"
          ]
        }
      ]
    },
    {
      "cell_type": "code",
      "source": [
        "@tvm.script.ir_module\n",
        "class MyModule:\n",
        "  @T.prim_func\n",
        "  def relu0(X: T.Buffer[(1, 128), \"float32\"],\n",
        "            Y: T.Buffer[(1, 128), \"float32\"]):\n",
        "    T.func_attr({\"global_symbol\": \"relu0\", \"tir.noalias\": True})\n",
        "    for i, j in T.grid(1, 128):\n",
        "      with T.block(\"Y\"):\n",
        "        vi,vj = T.axis.remap(\"SS\", [i,j])\n",
        "        Y[vi, vj] = T.max(X[vi,vj], T.float32(0))\n",
        "\n",
        "  @T.prim_func\n",
        "  def linear0(X: T.Buffer[(1, 784), \"float32\"],\n",
        "              W: T.Buffer[(128, 784), \"float32\"],\n",
        "              b: T.Buffer[(128,), \"float32\"],\n",
        "              Z: T.Buffer[(1, 128), \"float32\"]):\n",
        "    T.func_attr({\"global_symbol\": \"linear0\", \"tir.noalias\": True})\n",
        "    Y = T.alloc_buffer((1, 128), \"float32\")\n",
        "    for i, j, k in T.grid(1, 128, 784):\n",
        "      with T.block(\"Y\"):\n",
        "        vi, vj, vk = T.axis.remap(\"SSR\", [i, j, k])\n",
        "        with T.init():\n",
        "          Y[vi, vj] = T.float32(0)\n",
        "        Y[vi,vj] = Y[vi,vj] + X[vi, vk] *W[vj, vk]\n",
        "\n",
        "    for i, j in T.grid(1, 128):\n",
        "      with T.block(\"Z\"):\n",
        "        vi, vj = T.axis.remap(\"SS\", [i,j])\n",
        "        Z[vi, vj] = Y[vi, vj] + b[vj]\n",
        "\n",
        "  @T.prim_func\n",
        "  def linear1(X: T.Buffer[(1, 128), \"float32\"],\n",
        "                W: T.Buffer[(10, 128), \"float32\"],\n",
        "                b: T.Buffer[(10,), \"float32\"],\n",
        "                Z: T.Buffer[(1, 10), \"float32\"]):\n",
        "    T.func_attr({\"global_symbol\" : \"linear1\", \"tir.noalias\": True})  \n",
        "    Y =  T.alloc_buffer((1, 10), \"float32\")\n",
        "    for i, j, k in T.grid(1, 10, 128):\n",
        "      with T.block(\"Y\"):\n",
        "        vi, vj, vk =  T.axis.remap(\"SSR\", [i,j,k])\n",
        "        with T.init():\n",
        "          Y[vi, vj] = T.float32(0)\n",
        "        Y[vi, vj] = Y[vi, vj] + X[vi, vk] * W[vj, vk]\n",
        "\n",
        "    for i, j in T.grid(1, 10):\n",
        "      with T.block(\"Z\"):\n",
        "        vi, vj = T.axis.remap(\"SS\", [i,j])\n",
        "        Z[vi,vj] = Y[vi, vj] + b[vj]\n",
        "\n",
        "  @R.function\n",
        "  def main(x: Tensor((1, 784), \"float32\"),\n",
        "           w0: Tensor((128, 784), \"float32\"),\n",
        "           b0: Tensor((128,), \"float32\"),\n",
        "           w1: Tensor((10, 128), \"float32\"),\n",
        "           b1:Tensor((10,),\"float32\")):\n",
        "    with R.dataflow():\n",
        "      lv0 = R.call_tir(linear0, (x, w0, b0), (1, 128), dtype=\"float32\")\n",
        "      lv1 = R.call_tir(relu0, (lv0, ), (1, 128), dtype = \"float32\")\n",
        "      out = R.call_tir(linear1, (lv1,w1, b1), (1, 10), dtype = \"float32\")\n",
        "      R.output(out)\n",
        "    return out\n"
      ],
      "metadata": {
        "id": "3u90dfnm25VG"
      },
      "execution_count": 136,
      "outputs": []
    },
    {
      "cell_type": "code",
      "source": [
        "def lnumpy_call_tir(prim_func, inputs, shape, dtype):\n",
        "  res = np.empty(shape, dtype = dtype)\n",
        "  prim_func(*inputs, res)\n",
        "  return res\n",
        "  "
      ],
      "metadata": {
        "id": "g2TVV9oY9SAb"
      },
      "execution_count": 131,
      "outputs": []
    },
    {
      "cell_type": "code",
      "source": [
        "def lnumpy_mlp_with_call_tir(data, w0, b0, w1, b1):\n",
        "    lv0 = lnumpy_call_tir(lnumpy_linear0, (data, w0, b0), (1, 128), dtype=\"float32\")\n",
        "    lv1 = lnumpy_call_tir(lnumpy_relu0, (lv0, ), (1, 128), dtype=\"float32\")\n",
        "    out = lnumpy_call_tir(lnumpy_linear1, (lv1, w1, b1), (1, 10), dtype=\"float32\")\n",
        "    return out\n",
        "\n",
        "result = lnumpy_mlp_with_call_tir(\n",
        "    img.reshape(1, 784), \n",
        "    mlp_params[\"w0\"], \n",
        "    mlp_params[\"b0\"], \n",
        "    mlp_params[\"w1\"],\n",
        "    mlp_params[\"b1\"])\n",
        "\n",
        "pred_kind = np.argmax(result, axis=1)\n",
        "print(\"Low-level Numpy with CallTIR Prediction:\", class_names[pred_kind[0]])"
      ],
      "metadata": {
        "id": "yJHnJO_h9iOu",
        "outputId": "bef604a2-27d2-488e-98ec-8e23cd5b7290",
        "colab": {
          "base_uri": "https://localhost:8080/"
        }
      },
      "execution_count": 132,
      "outputs": [
        {
          "output_type": "stream",
          "name": "stdout",
          "text": [
            "Low-level Numpy with CallTIR Prediction: T-shirt/top\n"
          ]
        }
      ]
    },
    {
      "cell_type": "code",
      "source": [
        "@tvm.register_func(\"env.linear\", override = True)\n",
        "def torch_linear(x:tvm.nd.NDArray,\n",
        "                 w:tvm.nd.NDArray,\n",
        "                 b:tvm.nd.NDArray,\n",
        "                 out: tvm.nd.NDArray):\n",
        "  x_torch = torch.from_dlpack(x)\n",
        "  w_torch = torch.from_dlpack(w)\n",
        "  b_torch =  torch.from_dlpack(b)\n",
        "  out_torch = torch.from_dlpack(out)\n",
        "  torch.mm(x_torch, w_torch.T, out = out_torch)\n",
        "  torch.add(out_torch, b_torch, out =  out_torch)\n",
        "\n",
        "@tvm.register_func(\"env.relu\", override=True)\n",
        "def torch_relu(x:tvm.nd.NDArray,\n",
        "                  out:tvm.nd.NDArray):\n",
        "  x_torch =  torch.from_dlpack(x)\n",
        "  out_torch = torch.from_dlpack(out)\n",
        "  torch.maximum(x_torch, torch.Tensor([0.0]), out = out_torch)"
      ],
      "metadata": {
        "id": "1YvVh1pUIyLG"
      },
      "execution_count": 150,
      "outputs": []
    },
    {
      "cell_type": "code",
      "source": [
        "@tvm.script.ir_module\n",
        "class MyModuleWithExternCall2:\n",
        "  @R.function\n",
        "  def main(x: Tensor((1,784), \"float32\"),\n",
        "           w0: Tensor((128, 784), \"float32\"),\n",
        "           b0: Tensor((128,), \"float32\"),\n",
        "           w1: Tensor((10, 128), \"float32\"),\n",
        "           b1: Tensor((10,), \"float32\")):\n",
        "      with R.dataflow():\n",
        "             lv0 = R.call_tir(\"env.linear\", (x, w0, b0), (1, 128), dtype=\"float32\")\n",
        "             lv1 = R.call_tir(\"env.relu\", (lv0,), (1, 128), dtype = \"float32\")\n",
        "             out = R.call_tir(\"env.linear\", (lv1, w1, b1), (1,10), dtype=\"float32\")\n",
        "             R.output(out)\n",
        "      return out"
      ],
      "metadata": {
        "id": "2Ez4Y4UpJpag"
      },
      "execution_count": 151,
      "outputs": []
    },
    {
      "cell_type": "code",
      "source": [
        "ex = relax.vm.build(MyModuleWithExternCall2, target=\"llvm\")\n",
        "vm = relax.VirtualMachine(ex, tvm.cpu())\n",
        "\n",
        "nd_res = vm[\"main\"](data_nd, \n",
        "                    nd_params[\"w0\"],\n",
        "                    nd_params[\"b0\"],\n",
        "                    nd_params[\"w1\"],\n",
        "                    nd_params[\"b1\"])\n",
        "\n",
        "pred_kind = np.argmax(nd_res.numpy(), axis=1)\n",
        "print(\"MyModuleWithExternCall Prediction:\", class_names[pred_kind[0]])"
      ],
      "metadata": {
        "id": "RKIfQS05KcGL",
        "outputId": "250ca176-d48d-4b5d-a06f-5c7bd83e57ae",
        "colab": {
          "base_uri": "https://localhost:8080/"
        }
      },
      "execution_count": 152,
      "outputs": [
        {
          "output_type": "stream",
          "name": "stdout",
          "text": [
            "MyModuleWithExternCall Prediction: T-shirt/top\n"
          ]
        }
      ]
    }
  ]
}